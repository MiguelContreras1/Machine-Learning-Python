{
 "cells": [
  {
   "cell_type": "markdown",
   "metadata": {},
   "source": [
    "## EJERCICIO ESTRUCTURA DATAFRAME - TEMPERATURA MESES"
   ]
  },
  {
   "cell_type": "code",
   "execution_count": 1,
   "metadata": {},
   "outputs": [],
   "source": [
    "# Importar librerías\n",
    "import numpy as np\n",
    "import pandas as pd\n",
    "import matplotlib.pyplot as plt\n",
    "from sklearn.preprocessing import StandardScaler\n",
    "from sklearn.preprocessing import MinMaxScaler"
   ]
  },
  {
   "cell_type": "code",
   "execution_count": 2,
   "metadata": {},
   "outputs": [],
   "source": [
    "# Crear Dataframe\n",
    "tabla = pd.DataFrame([('Enero', 31, 'inv', 2, 4),('Febrero', 28, 'inv', 3, 2),('Marzo', 31, 'inv', 7, 5),\n",
    "                  ('Abril', 30, 'pri', 7, 9),('Mayo', 31, 'pri', 9, 10),('Junio', 30, 'pri', 15, 14),\n",
    "                  ('Julio', 31, 'ver', 20, 24),('Agosto', 31, 'ver', 27, 26),('Septiembre', 30, 'ver', 25, 18),\n",
    "                  ('Octubre', 31, 'oto', 20, 14),('Noviembre', 30, 'oto', 11, 10),('Diciembre', 31, 'oto', 6, 7),], \n",
    "                columns=['Mes', 'Días', 'Estación', 'Temp.2021', 'Temp.2022'],   \n",
    "                index=['Ene', 'Feb', 'Mar', 'Abr', 'May', 'Jun', 'Jul', 'Ago', 'Sep', 'Oct', 'Nov', 'Dic'])"
   ]
  },
  {
   "cell_type": "code",
   "execution_count": 11,
   "metadata": {},
   "outputs": [
    {
     "data": {
      "text/html": [
       "<div>\n",
       "<style scoped>\n",
       "    .dataframe tbody tr th:only-of-type {\n",
       "        vertical-align: middle;\n",
       "    }\n",
       "\n",
       "    .dataframe tbody tr th {\n",
       "        vertical-align: top;\n",
       "    }\n",
       "\n",
       "    .dataframe thead th {\n",
       "        text-align: right;\n",
       "    }\n",
       "</style>\n",
       "<table border=\"1\" class=\"dataframe\">\n",
       "  <thead>\n",
       "    <tr style=\"text-align: right;\">\n",
       "      <th></th>\n",
       "      <th>Mes</th>\n",
       "      <th>Días</th>\n",
       "      <th>Estación</th>\n",
       "      <th>Temp.2021</th>\n",
       "      <th>Temp.2022</th>\n",
       "    </tr>\n",
       "  </thead>\n",
       "  <tbody>\n",
       "    <tr>\n",
       "      <th>Ene</th>\n",
       "      <td>Enero</td>\n",
       "      <td>31</td>\n",
       "      <td>inv</td>\n",
       "      <td>2</td>\n",
       "      <td>4</td>\n",
       "    </tr>\n",
       "    <tr>\n",
       "      <th>Feb</th>\n",
       "      <td>Febrero</td>\n",
       "      <td>28</td>\n",
       "      <td>inv</td>\n",
       "      <td>3</td>\n",
       "      <td>2</td>\n",
       "    </tr>\n",
       "    <tr>\n",
       "      <th>Mar</th>\n",
       "      <td>Marzo</td>\n",
       "      <td>31</td>\n",
       "      <td>inv</td>\n",
       "      <td>7</td>\n",
       "      <td>5</td>\n",
       "    </tr>\n",
       "    <tr>\n",
       "      <th>Abr</th>\n",
       "      <td>Abril</td>\n",
       "      <td>30</td>\n",
       "      <td>pri</td>\n",
       "      <td>7</td>\n",
       "      <td>9</td>\n",
       "    </tr>\n",
       "    <tr>\n",
       "      <th>May</th>\n",
       "      <td>Mayo</td>\n",
       "      <td>31</td>\n",
       "      <td>pri</td>\n",
       "      <td>9</td>\n",
       "      <td>10</td>\n",
       "    </tr>\n",
       "    <tr>\n",
       "      <th>Jun</th>\n",
       "      <td>Junio</td>\n",
       "      <td>30</td>\n",
       "      <td>pri</td>\n",
       "      <td>15</td>\n",
       "      <td>14</td>\n",
       "    </tr>\n",
       "    <tr>\n",
       "      <th>Jul</th>\n",
       "      <td>Julio</td>\n",
       "      <td>31</td>\n",
       "      <td>ver</td>\n",
       "      <td>20</td>\n",
       "      <td>24</td>\n",
       "    </tr>\n",
       "    <tr>\n",
       "      <th>Ago</th>\n",
       "      <td>Agosto</td>\n",
       "      <td>31</td>\n",
       "      <td>ver</td>\n",
       "      <td>27</td>\n",
       "      <td>26</td>\n",
       "    </tr>\n",
       "    <tr>\n",
       "      <th>Sep</th>\n",
       "      <td>Septiembre</td>\n",
       "      <td>30</td>\n",
       "      <td>ver</td>\n",
       "      <td>25</td>\n",
       "      <td>18</td>\n",
       "    </tr>\n",
       "    <tr>\n",
       "      <th>Oct</th>\n",
       "      <td>Octubre</td>\n",
       "      <td>31</td>\n",
       "      <td>oto</td>\n",
       "      <td>20</td>\n",
       "      <td>14</td>\n",
       "    </tr>\n",
       "    <tr>\n",
       "      <th>Nov</th>\n",
       "      <td>Noviembre</td>\n",
       "      <td>30</td>\n",
       "      <td>oto</td>\n",
       "      <td>11</td>\n",
       "      <td>10</td>\n",
       "    </tr>\n",
       "    <tr>\n",
       "      <th>Dic</th>\n",
       "      <td>Diciembre</td>\n",
       "      <td>31</td>\n",
       "      <td>oto</td>\n",
       "      <td>6</td>\n",
       "      <td>7</td>\n",
       "    </tr>\n",
       "  </tbody>\n",
       "</table>\n",
       "</div>"
      ],
      "text/plain": [
       "            Mes  Días Estación  Temp.2021  Temp.2022\n",
       "Ene       Enero    31      inv          2          4\n",
       "Feb     Febrero    28      inv          3          2\n",
       "Mar       Marzo    31      inv          7          5\n",
       "Abr       Abril    30      pri          7          9\n",
       "May        Mayo    31      pri          9         10\n",
       "Jun       Junio    30      pri         15         14\n",
       "Jul       Julio    31      ver         20         24\n",
       "Ago      Agosto    31      ver         27         26\n",
       "Sep  Septiembre    30      ver         25         18\n",
       "Oct     Octubre    31      oto         20         14\n",
       "Nov   Noviembre    30      oto         11         10\n",
       "Dic   Diciembre    31      oto          6          7"
      ]
     },
     "execution_count": 11,
     "metadata": {},
     "output_type": "execute_result"
    }
   ],
   "source": [
    "tabla"
   ]
  },
  {
   "cell_type": "code",
   "execution_count": 4,
   "metadata": {},
   "outputs": [
    {
     "data": {
      "text/plain": [
       "array([['Enero', 31, 'inv', 2, 4],\n",
       "       ['Febrero', 28, 'inv', 3, 2],\n",
       "       ['Marzo', 31, 'inv', 7, 5],\n",
       "       ['Abril', 30, 'pri', 7, 9],\n",
       "       ['Mayo', 31, 'pri', 9, 10],\n",
       "       ['Junio', 30, 'pri', 15, 14],\n",
       "       ['Julio', 31, 'ver', 20, 24],\n",
       "       ['Agosto', 31, 'ver', 27, 26],\n",
       "       ['Septiembre', 30, 'ver', 25, 18],\n",
       "       ['Octubre', 31, 'oto', 20, 14],\n",
       "       ['Noviembre', 30, 'oto', 11, 10],\n",
       "       ['Diciembre', 31, 'oto', 6, 7]], dtype=object)"
      ]
     },
     "execution_count": 4,
     "metadata": {},
     "output_type": "execute_result"
    }
   ],
   "source": [
    "# Muestra los valores de la tabla\n",
    "tabla.values"
   ]
  },
  {
   "cell_type": "code",
   "execution_count": 5,
   "metadata": {},
   "outputs": [
    {
     "data": {
      "text/plain": [
       "Index(['Ene', 'Feb', 'Mar', 'Abr', 'May', 'Jun', 'Jul', 'Ago', 'Sep', 'Oct',\n",
       "       'Nov', 'Dic'],\n",
       "      dtype='object')"
      ]
     },
     "execution_count": 5,
     "metadata": {},
     "output_type": "execute_result"
    }
   ],
   "source": [
    "# Muestra las etiquetas de sus índices\n",
    "tabla.index"
   ]
  },
  {
   "cell_type": "code",
   "execution_count": 6,
   "metadata": {},
   "outputs": [
    {
     "data": {
      "text/plain": [
       "Index(['Mes', 'Días', 'Estación', 'Temp.2021', 'Temp.2022'], dtype='object')"
      ]
     },
     "execution_count": 6,
     "metadata": {},
     "output_type": "execute_result"
    }
   ],
   "source": [
    "# Muestra los nombres de sus columnas\n",
    "tabla.columns"
   ]
  },
  {
   "cell_type": "code",
   "execution_count": 7,
   "metadata": {},
   "outputs": [
    {
     "data": {
      "text/plain": [
       "Ene         Enero\n",
       "Feb       Febrero\n",
       "Mar         Marzo\n",
       "Abr         Abril\n",
       "May          Mayo\n",
       "Jun         Junio\n",
       "Jul         Julio\n",
       "Ago        Agosto\n",
       "Sep    Septiembre\n",
       "Oct       Octubre\n",
       "Nov     Noviembre\n",
       "Dic     Diciembre\n",
       "Name: Mes, dtype: object"
      ]
     },
     "execution_count": 7,
     "metadata": {},
     "output_type": "execute_result"
    }
   ],
   "source": [
    "# Muestra los datos de la columna Mes con dos comandos diferentes\n",
    "tabla['Mes']"
   ]
  },
  {
   "cell_type": "code",
   "execution_count": 8,
   "metadata": {},
   "outputs": [
    {
     "data": {
      "text/plain": [
       "Ene         Enero\n",
       "Feb       Febrero\n",
       "Mar         Marzo\n",
       "Abr         Abril\n",
       "May          Mayo\n",
       "Jun         Junio\n",
       "Jul         Julio\n",
       "Ago        Agosto\n",
       "Sep    Septiembre\n",
       "Oct       Octubre\n",
       "Nov     Noviembre\n",
       "Dic     Diciembre\n",
       "Name: Mes, dtype: object"
      ]
     },
     "execution_count": 8,
     "metadata": {},
     "output_type": "execute_result"
    }
   ],
   "source": [
    "tabla.Mes"
   ]
  },
  {
   "cell_type": "code",
   "execution_count": 14,
   "metadata": {},
   "outputs": [
    {
     "data": {
      "text/html": [
       "<div>\n",
       "<style scoped>\n",
       "    .dataframe tbody tr th:only-of-type {\n",
       "        vertical-align: middle;\n",
       "    }\n",
       "\n",
       "    .dataframe tbody tr th {\n",
       "        vertical-align: top;\n",
       "    }\n",
       "\n",
       "    .dataframe thead th {\n",
       "        text-align: right;\n",
       "    }\n",
       "</style>\n",
       "<table border=\"1\" class=\"dataframe\">\n",
       "  <thead>\n",
       "    <tr style=\"text-align: right;\">\n",
       "      <th></th>\n",
       "      <th>Días</th>\n",
       "      <th>Temp.2021</th>\n",
       "      <th>Temp.2022</th>\n",
       "    </tr>\n",
       "  </thead>\n",
       "  <tbody>\n",
       "    <tr>\n",
       "      <th>Días</th>\n",
       "      <td>1.000000</td>\n",
       "      <td>0.256108</td>\n",
       "      <td>0.349989</td>\n",
       "    </tr>\n",
       "    <tr>\n",
       "      <th>Temp.2021</th>\n",
       "      <td>0.256108</td>\n",
       "      <td>1.000000</td>\n",
       "      <td>0.928141</td>\n",
       "    </tr>\n",
       "    <tr>\n",
       "      <th>Temp.2022</th>\n",
       "      <td>0.349989</td>\n",
       "      <td>0.928141</td>\n",
       "      <td>1.000000</td>\n",
       "    </tr>\n",
       "  </tbody>\n",
       "</table>\n",
       "</div>"
      ],
      "text/plain": [
       "               Días  Temp.2021  Temp.2022\n",
       "Días       1.000000   0.256108   0.349989\n",
       "Temp.2021  0.256108   1.000000   0.928141\n",
       "Temp.2022  0.349989   0.928141   1.000000"
      ]
     },
     "execution_count": 14,
     "metadata": {},
     "output_type": "execute_result"
    }
   ],
   "source": [
    "# Seleccionar solo columnas numéricas\n",
    "tabla_numerica = tabla.select_dtypes(include=['number'])\n",
    "\n",
    "# Calcular la correlación\n",
    "tabla_numerica.corr()"
   ]
  },
  {
   "cell_type": "code",
   "execution_count": 15,
   "metadata": {},
   "outputs": [
    {
     "data": {
      "text/html": [
       "<div>\n",
       "<style scoped>\n",
       "    .dataframe tbody tr th:only-of-type {\n",
       "        vertical-align: middle;\n",
       "    }\n",
       "\n",
       "    .dataframe tbody tr th {\n",
       "        vertical-align: top;\n",
       "    }\n",
       "\n",
       "    .dataframe thead th {\n",
       "        text-align: right;\n",
       "    }\n",
       "</style>\n",
       "<table border=\"1\" class=\"dataframe\">\n",
       "  <thead>\n",
       "    <tr style=\"text-align: right;\">\n",
       "      <th></th>\n",
       "      <th>Días</th>\n",
       "      <th>Temp.2021</th>\n",
       "      <th>Temp.2022</th>\n",
       "    </tr>\n",
       "  </thead>\n",
       "  <tbody>\n",
       "    <tr>\n",
       "      <th>Días</th>\n",
       "      <td>0.810606</td>\n",
       "      <td>1.969697</td>\n",
       "      <td>2.401515</td>\n",
       "    </tr>\n",
       "    <tr>\n",
       "      <th>Temp.2021</th>\n",
       "      <td>1.969697</td>\n",
       "      <td>72.969697</td>\n",
       "      <td>60.424242</td>\n",
       "    </tr>\n",
       "    <tr>\n",
       "      <th>Temp.2022</th>\n",
       "      <td>2.401515</td>\n",
       "      <td>60.424242</td>\n",
       "      <td>58.083333</td>\n",
       "    </tr>\n",
       "  </tbody>\n",
       "</table>\n",
       "</div>"
      ],
      "text/plain": [
       "               Días  Temp.2021  Temp.2022\n",
       "Días       0.810606   1.969697   2.401515\n",
       "Temp.2021  1.969697  72.969697  60.424242\n",
       "Temp.2022  2.401515  60.424242  58.083333"
      ]
     },
     "execution_count": 15,
     "metadata": {},
     "output_type": "execute_result"
    }
   ],
   "source": [
    "# Calcular la covarianza\n",
    "tabla_numerica.cov()"
   ]
  },
  {
   "cell_type": "code",
   "execution_count": 21,
   "metadata": {},
   "outputs": [
    {
     "data": {
      "text/plain": [
       "Text(510.3244949494949, 0.5, 'Temp.2022')"
      ]
     },
     "execution_count": 21,
     "metadata": {},
     "output_type": "execute_result"
    },
    {
     "data": {
      "image/png": "[encoded data removed]",
      "text/plain": [
       "<Figure size 1000x300 with 3 Axes>"
      ]
     },
     "metadata": {},
     "output_type": "display_data"
    }
   ],
   "source": [
    "# Ver la tabla de correlación con mapa de color\n",
    "import matplotlib.pyplot as plt\n",
    "import seaborn as sns\n",
    "\n",
    "figure, (ax1, ax2) = plt.subplots(nrows=1, ncols=2, figsize=(10,3))\n",
    "sns.heatmap(tabla_numerica.corr(), ax=ax1, vmax=1, square=False, annot=True, fmt='.2f')\n",
    "ax1.set_title('Matriz de correlación')\n",
    "tabla_numerica.plot(ax=ax2, kind='scatter', x='Temp.2021', y='Temp.2022')\n",
    "plt.xlabel('Temp.2021')\n",
    "plt.ylabel('Temp.2022')"
   ]
  },
  {
   "cell_type": "code",
   "execution_count": 22,
   "metadata": {},
   "outputs": [],
   "source": [
    "# Definir filtro1 (cuando la Estación sea oto)\n",
    "filtro1 = tabla['Estación'] == 'oto'\n",
    "# Definir fitro2 (cuando la Temp.2021 sea mayor a 10 grados)\n",
    "filtro2 = tabla['Temp.2021'] > 10"
   ]
  },
  {
   "cell_type": "code",
   "execution_count": 23,
   "metadata": {},
   "outputs": [],
   "source": [
    "# Meses de otoño con más de 10 grados en 2021\n",
    "meses_otoño_calidos = tabla[filtro1 & filtro2]"
   ]
  },
  {
   "cell_type": "code",
   "execution_count": 24,
   "metadata": {},
   "outputs": [
    {
     "data": {
      "text/html": [
       "<div>\n",
       "<style scoped>\n",
       "    .dataframe tbody tr th:only-of-type {\n",
       "        vertical-align: middle;\n",
       "    }\n",
       "\n",
       "    .dataframe tbody tr th {\n",
       "        vertical-align: top;\n",
       "    }\n",
       "\n",
       "    .dataframe thead th {\n",
       "        text-align: right;\n",
       "    }\n",
       "</style>\n",
       "<table border=\"1\" class=\"dataframe\">\n",
       "  <thead>\n",
       "    <tr style=\"text-align: right;\">\n",
       "      <th></th>\n",
       "      <th>Mes</th>\n",
       "      <th>Días</th>\n",
       "      <th>Estación</th>\n",
       "      <th>Temp.2021</th>\n",
       "      <th>Temp.2022</th>\n",
       "    </tr>\n",
       "  </thead>\n",
       "  <tbody>\n",
       "    <tr>\n",
       "      <th>Oct</th>\n",
       "      <td>Octubre</td>\n",
       "      <td>31</td>\n",
       "      <td>oto</td>\n",
       "      <td>20</td>\n",
       "      <td>14</td>\n",
       "    </tr>\n",
       "    <tr>\n",
       "      <th>Nov</th>\n",
       "      <td>Noviembre</td>\n",
       "      <td>30</td>\n",
       "      <td>oto</td>\n",
       "      <td>11</td>\n",
       "      <td>10</td>\n",
       "    </tr>\n",
       "  </tbody>\n",
       "</table>\n",
       "</div>"
      ],
      "text/plain": [
       "           Mes  Días Estación  Temp.2021  Temp.2022\n",
       "Oct    Octubre    31      oto         20         14\n",
       "Nov  Noviembre    30      oto         11         10"
      ]
     },
     "execution_count": 24,
     "metadata": {},
     "output_type": "execute_result"
    }
   ],
   "source": [
    "meses_otoño_calidos"
   ]
  },
  {
   "cell_type": "code",
   "execution_count": 25,
   "metadata": {},
   "outputs": [],
   "source": [
    "# Meses de otoño y los meses con más de 10 grados en 2021\n",
    "meses_otoño_o_calidos = tabla[filtro1 | filtro2]"
   ]
  },
  {
   "cell_type": "code",
   "execution_count": 26,
   "metadata": {},
   "outputs": [
    {
     "data": {
      "text/html": [
       "<div>\n",
       "<style scoped>\n",
       "    .dataframe tbody tr th:only-of-type {\n",
       "        vertical-align: middle;\n",
       "    }\n",
       "\n",
       "    .dataframe tbody tr th {\n",
       "        vertical-align: top;\n",
       "    }\n",
       "\n",
       "    .dataframe thead th {\n",
       "        text-align: right;\n",
       "    }\n",
       "</style>\n",
       "<table border=\"1\" class=\"dataframe\">\n",
       "  <thead>\n",
       "    <tr style=\"text-align: right;\">\n",
       "      <th></th>\n",
       "      <th>Mes</th>\n",
       "      <th>Días</th>\n",
       "      <th>Estación</th>\n",
       "      <th>Temp.2021</th>\n",
       "      <th>Temp.2022</th>\n",
       "    </tr>\n",
       "  </thead>\n",
       "  <tbody>\n",
       "    <tr>\n",
       "      <th>Jun</th>\n",
       "      <td>Junio</td>\n",
       "      <td>30</td>\n",
       "      <td>pri</td>\n",
       "      <td>15</td>\n",
       "      <td>14</td>\n",
       "    </tr>\n",
       "    <tr>\n",
       "      <th>Jul</th>\n",
       "      <td>Julio</td>\n",
       "      <td>31</td>\n",
       "      <td>ver</td>\n",
       "      <td>20</td>\n",
       "      <td>24</td>\n",
       "    </tr>\n",
       "    <tr>\n",
       "      <th>Ago</th>\n",
       "      <td>Agosto</td>\n",
       "      <td>31</td>\n",
       "      <td>ver</td>\n",
       "      <td>27</td>\n",
       "      <td>26</td>\n",
       "    </tr>\n",
       "    <tr>\n",
       "      <th>Sep</th>\n",
       "      <td>Septiembre</td>\n",
       "      <td>30</td>\n",
       "      <td>ver</td>\n",
       "      <td>25</td>\n",
       "      <td>18</td>\n",
       "    </tr>\n",
       "    <tr>\n",
       "      <th>Oct</th>\n",
       "      <td>Octubre</td>\n",
       "      <td>31</td>\n",
       "      <td>oto</td>\n",
       "      <td>20</td>\n",
       "      <td>14</td>\n",
       "    </tr>\n",
       "    <tr>\n",
       "      <th>Nov</th>\n",
       "      <td>Noviembre</td>\n",
       "      <td>30</td>\n",
       "      <td>oto</td>\n",
       "      <td>11</td>\n",
       "      <td>10</td>\n",
       "    </tr>\n",
       "    <tr>\n",
       "      <th>Dic</th>\n",
       "      <td>Diciembre</td>\n",
       "      <td>31</td>\n",
       "      <td>oto</td>\n",
       "      <td>6</td>\n",
       "      <td>7</td>\n",
       "    </tr>\n",
       "  </tbody>\n",
       "</table>\n",
       "</div>"
      ],
      "text/plain": [
       "            Mes  Días Estación  Temp.2021  Temp.2022\n",
       "Jun       Junio    30      pri         15         14\n",
       "Jul       Julio    31      ver         20         24\n",
       "Ago      Agosto    31      ver         27         26\n",
       "Sep  Septiembre    30      ver         25         18\n",
       "Oct     Octubre    31      oto         20         14\n",
       "Nov   Noviembre    30      oto         11         10\n",
       "Dic   Diciembre    31      oto          6          7"
      ]
     },
     "execution_count": 26,
     "metadata": {},
     "output_type": "execute_result"
    }
   ],
   "source": [
    "meses_otoño_o_calidos"
   ]
  },
  {
   "cell_type": "code",
   "execution_count": 27,
   "metadata": {},
   "outputs": [],
   "source": [
    "# Generar y representar una serie con las temperaturas de 2021 y 2022\n",
    "temp = pd.concat([tabla['Temp.2021'], tabla['Temp.2022']], axis=0)\n",
    "temp = temp.apply(lambda val: float(val))"
   ]
  },
  {
   "cell_type": "code",
   "execution_count": 28,
   "metadata": {},
   "outputs": [
    {
     "data": {
      "text/plain": [
       "Ene     2.0\n",
       "Feb     3.0\n",
       "Mar     7.0\n",
       "Abr     7.0\n",
       "May     9.0\n",
       "Jun    15.0\n",
       "Jul    20.0\n",
       "Ago    27.0\n",
       "Sep    25.0\n",
       "Oct    20.0\n",
       "Nov    11.0\n",
       "Dic     6.0\n",
       "Ene     4.0\n",
       "Feb     2.0\n",
       "Mar     5.0\n",
       "Abr     9.0\n",
       "May    10.0\n",
       "Jun    14.0\n",
       "Jul    24.0\n",
       "Ago    26.0\n",
       "Sep    18.0\n",
       "Oct    14.0\n",
       "Nov    10.0\n",
       "Dic     7.0\n",
       "dtype: float64"
      ]
     },
     "execution_count": 28,
     "metadata": {},
     "output_type": "execute_result"
    }
   ],
   "source": [
    "temp"
   ]
  },
  {
   "cell_type": "code",
   "execution_count": 29,
   "metadata": {},
   "outputs": [
    {
     "data": {
      "text/plain": [
       "<Axes: title={'center': 'temperaturas'}>"
      ]
     },
     "execution_count": 29,
     "metadata": {},
     "output_type": "execute_result"
    },
    {
     "data": {
      "image/png": "[encoded data removed]",
      "text/plain": [
       "<Figure size 500x300 with 1 Axes>"
      ]
     },
     "metadata": {},
     "output_type": "display_data"
    }
   ],
   "source": [
    "# Graficar la serie\n",
    "figura, ax = plt.subplots(1,1, figsize=(5,3))\n",
    "temp.plot(ax = ax, title = 'temperaturas')"
   ]
  },
  {
   "cell_type": "code",
   "execution_count": 30,
   "metadata": {},
   "outputs": [],
   "source": [
    "# Completar las líneas de código en else \n",
    "def filtro_media(serie):\n",
    "    valores = serie.values\n",
    "    new_valores = valores.copy()\n",
    "    for i in range(len(valores)):\n",
    "        if i < 3 or i > len(valores) - 4:\n",
    "            new_valores[i] = np.nan\n",
    "        else:\n",
    "            # # Añade una línea de código para calcular la media conlos valores vecinos. Calcula la media de los valores vecinos (3 anteriores, actual, y 3 posteriores)\n",
    "            new_valores[i] = np.mean(valores[i-3:i+4])  \n",
    "\n",
    "    new_serie = pd.Series(new_valores, index=serie.index)\n",
    "    return new_serie\n",
    "\n",
    "def filtro_diferencia(serie):\n",
    "    valores = serie.values\n",
    "    new_valores = valores.copy()\n",
    "    for i in range(len(valores)):\n",
    "        if i < 1:  # No hay un valor anterior para calcular la diferencia\n",
    "            new_valores[i] = np.nan\n",
    "        else:\n",
    "            # Añade una línea de código para calcular la diferencia de cada valor con el anterior. Calcula la diferencia entre el valor actual y el anterior\n",
    "            new_valores[i] = valores[i] - valores[i-1]\n",
    "            \n",
    "    new_serie = pd.Series(new_valores, index=serie.index)\n",
    "    return new_serie"
   ]
  },
  {
   "cell_type": "code",
   "execution_count": 31,
   "metadata": {},
   "outputs": [],
   "source": [
    "tendencia = filtro_media(temp)\n",
    "cambios = filtro_diferencia(temp)"
   ]
  },
  {
   "cell_type": "code",
   "execution_count": 32,
   "metadata": {},
   "outputs": [
    {
     "data": {
      "text/plain": [
       "<Axes: title={'center': 'cambios de temperaturas'}>"
      ]
     },
     "execution_count": 32,
     "metadata": {},
     "output_type": "execute_result"
    },
    {
     "data": {
      "image/png": "[encoded data removed]",
      "text/plain": [
       "<Figure size 800x300 with 2 Axes>"
      ]
     },
     "metadata": {},
     "output_type": "display_data"
    }
   ],
   "source": [
    "figura, (ax1, ax2) = plt.subplots(nrows=1, ncols=2, figsize=(8,3))\n",
    "tendencia.plot(ax = ax1, title='tendencia de temperaturas')\n",
    "cambios.plot(ax = ax2, title='cambios de temperaturas')"
   ]
  },
  {
   "cell_type": "code",
   "execution_count": 33,
   "metadata": {},
   "outputs": [],
   "source": [
    "from sklearn.preprocessing import StandardScaler, MinMaxScaler"
   ]
  },
  {
   "cell_type": "code",
   "execution_count": 34,
   "metadata": {},
   "outputs": [],
   "source": [
    "# Normalizar la serie temp\n",
    "\n",
    "# Estandarizar los valores de temp\n",
    "# Fórmula manual (Z-score)\n",
    "media_temp = temp.mean()\n",
    "std_temp = temp.std()\n",
    "temp_estandarizada_formula = (temp - media_temp) / std_temp"
   ]
  },
  {
   "cell_type": "code",
   "execution_count": 35,
   "metadata": {},
   "outputs": [],
   "source": [
    "# Estandarizar los valores de temp\n",
    "# Usando StandardScaler (scikit-learn)\n",
    "scaler_standard = StandardScaler()\n",
    "temp_estandarizada_sklearn = scaler_standard.fit_transform(temp.values.reshape(-1, 1)).flatten()"
   ]
  },
  {
   "cell_type": "code",
   "execution_count": 36,
   "metadata": {},
   "outputs": [],
   "source": [
    "# Escalar los valores de temp al rango [0, 1]\n",
    "# Fórmula manual\n",
    "min_temp = temp.min()\n",
    "max_temp = temp.max()\n",
    "temp_escalada_formula = (temp - min_temp) / (max_temp - min_temp)"
   ]
  },
  {
   "cell_type": "code",
   "execution_count": 37,
   "metadata": {},
   "outputs": [],
   "source": [
    "# Escalar los valores de temp al rango [0, 1]\n",
    "# Usando MinMaxScaler (scikit-learn)\n",
    "scaler_minmax = MinMaxScaler()\n",
    "temp_escalada_sklearn = scaler_minmax.fit_transform(temp.values.reshape(-1, 1)).flatten()"
   ]
  },
  {
   "cell_type": "code",
   "execution_count": 38,
   "metadata": {},
   "outputs": [],
   "source": [
    "# Calcular la temperatura media en cada estación en 2022\n",
    "media_por_estacion = tabla.groupby('Estación')['Temp.2022'].mean()"
   ]
  },
  {
   "cell_type": "code",
   "execution_count": 39,
   "metadata": {},
   "outputs": [
    {
     "data": {
      "text/plain": [
       "Estación\n",
       "inv     3.666667\n",
       "oto    10.333333\n",
       "pri    11.000000\n",
       "ver    22.666667\n",
       "Name: Temp.2022, dtype: float64"
      ]
     },
     "execution_count": 39,
     "metadata": {},
     "output_type": "execute_result"
    }
   ],
   "source": [
    "media_por_estacion"
   ]
  }
 ],
 "metadata": {
  "kernelspec": {
   "display_name": "base",
   "language": "python",
   "name": "python3"
  },
  "language_info": {
   "codemirror_mode": {
    "name": "ipython",
    "version": 3
   },
   "file_extension": ".py",
   "mimetype": "text/x-python",
   "name": "python",
   "nbconvert_exporter": "python",
   "pygments_lexer": "ipython3",
   "version": "3.12.4"
  }
 },
 "nbformat": 4,
 "nbformat_minor": 2
}
